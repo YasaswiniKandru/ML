{
 "cells": [
  {
   "cell_type": "code",
   "execution_count": null,
   "metadata": {},
   "outputs": [],
   "source": [
    "import matplotlib.pyplot as plot\n",
    "import matplotlib.image as matimg\n",
    "import numpy as np\n",
    "import os\n",
    "\n",
    "\n",
    "#Reading Image using matplotlib package\n",
    "input_image = matimg.imread('image.jpg')\n",
    "\n",
    "\n",
    "\n",
    "##Displaying image\n",
    "plot.imshow(input_image)\n",
    "\n",
    "\n",
    "## Converting the image to grey scale\n",
    "rgb_conv=[0.2989, 0.5870, 0.1140]\n",
    "grey_image = np.dot(input_image[...,:3],rgb_conv )\n",
    "\n",
    "\n",
    "## Initializing the singular value decomposition\n",
    "u,s,vt = np.linalg.svd(grey_image, full_matrices =  False)\n",
    "\n",
    "\n",
    "## Deriving diagonal singular values of s\n",
    "s_diag = np.diag(s)\n",
    "s_diag.shape\n",
    "\n",
    "\n",
    "## Taking a sample singular value range\n",
    "k = [1,5,10,50,100,150,500]\n",
    "\n",
    "## Constructing approximation for given k values\n",
    "img_iter = 0\n",
    "for i in k:\n",
    "    approx = u[:,:i] @ s_diag[:i,:i] @ vt[:i, :]\n",
    "    plot.figure(img_iter+1)\n",
    "    img_iter = img_iter+1\n",
    "    img_approx = plot.imshow(256-approx)\n",
    "    img_approx.set_cmap('gray')\n",
    "    plot.title('Image approximation when k='+str(i))\n",
    "    plot.show()    \n",
    "\n",
    "## End of Code"
   ]
  }
 ],
 "metadata": {
  "kernelspec": {
   "display_name": "Python 3",
   "language": "python",
   "name": "python3"
  },
  "language_info": {
   "codemirror_mode": {
    "name": "ipython",
    "version": 3
   },
   "file_extension": ".py",
   "mimetype": "text/x-python",
   "name": "python",
   "nbconvert_exporter": "python",
   "pygments_lexer": "ipython3",
   "version": "3.7.6"
  }
 },
 "nbformat": 4,
 "nbformat_minor": 4
}
